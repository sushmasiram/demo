{
  "nbformat": 4,
  "nbformat_minor": 0,
  "metadata": {
    "colab": {
      "name": "HelloWorld.ipynb",
      "provenance": []
    },
    "kernelspec": {
      "name": "python3",
      "display_name": "Python 3"
    }
  },
  "cells": [
    {
      "cell_type": "markdown",
      "metadata": {
        "id": "-LQUAeLw1UUe",
        "colab_type": "text"
      },
      "source": [
        "### My first Hello world\n",
        "test paragraph\n",
        "\n",
        "[I'm an inline-style link](https://www.google.com)\n"
      ]
    },
    {
      "cell_type": "code",
      "metadata": {
        "id": "kRqF42on0zvn",
        "colab_type": "code",
        "colab": {
          "base_uri": "https://localhost:8080/",
          "height": 34
        },
        "outputId": "135ce939-3d40-4592-a030-57dea678384f"
      },
      "source": [
        "print (\"Hello world\")"
      ],
      "execution_count": 2,
      "outputs": [
        {
          "output_type": "stream",
          "text": [
            "Hello world\n"
          ],
          "name": "stdout"
        }
      ]
    }
  ]
}